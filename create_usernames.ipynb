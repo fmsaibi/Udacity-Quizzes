{
 "cells": [
  {
   "cell_type": "code",
   "execution_count": null,
   "metadata": {},
   "outputs": [],
   "source": [
    "# Write a for loop that iterates over the names list to create a usernames list. \n",
    "# To create a username for each name, make everything lowercase and replace spaces with underscores. \n",
    "# Running your for loop over the list:\n",
    "names = [\"Joey Tribbiani\", \"Monica Geller\", \"Chandler Bing\", \"Phoebe Buffay\"]\n",
    "usernames = []\n",
    "\n",
    "for each_name in names:\n",
    "    user = each_name.replace(\" \",\"_\").lower()\n",
    "    usernames.append(user)\n",
    "print(usernames)"
   ]
  }
 ],
 "metadata": {
  "language_info": {
   "name": "python"
  }
 },
 "nbformat": 4,
 "nbformat_minor": 2
}
