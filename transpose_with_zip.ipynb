{
 "cells": [
  {
   "cell_type": "code",
   "execution_count": 75,
   "metadata": {},
   "outputs": [
    {
     "name": "stdout",
     "output_type": "stream",
     "text": [
      "((0, 3, 6, 9), (1, 4, 7, 10), (2, 5, 8, 11))\n"
     ]
    }
   ],
   "source": [
    "# Use zip to transpose data from a 4-by-3 matrix to a 3-by-4 matrix.\n",
    "data = ((0, 1, 2), \n",
    "        (3, 4, 5), \n",
    "        (6, 7, 8), \n",
    "        (9, 10, 11))\n",
    "\n",
    "# Temparary store data as list\n",
    "data_transpose = []\n",
    "# Temparary store data as list\n",
    "temp_data = list(data)\n",
    "# Temparary convert each tuple set in the data to list \n",
    "for index in range(0, len(temp_data)):\n",
    "    temp_data[index] =list(temp_data[index])\n",
    "# transpose data from a 4-by-3 matrix to a 3-by-4 matrix.\n",
    "for temp_data[0], temp_data[1], temp_data[2] , temp_data[3] in zip(temp_data[0], temp_data[1], temp_data[2], temp_data[3]):\n",
    "    data_transpose.append((temp_data[0], temp_data[1], temp_data[2], temp_data[3]))\n",
    "# Convert data from list to tuple\n",
    "data_transpose = tuple(data_transpose)\n",
    "\n",
    "print(data_transpose)\n"
   ]
  },
  {
   "cell_type": "markdown",
   "metadata": {},
   "source": [
    "# Other Solution"
   ]
  },
  {
   "cell_type": "code",
   "execution_count": 76,
   "metadata": {},
   "outputs": [
    {
     "name": "stdout",
     "output_type": "stream",
     "text": [
      "((0, 3, 6, 9), (1, 4, 7, 10), (2, 5, 8, 11))\n"
     ]
    }
   ],
   "source": [
    "data = ((0, 1, 2), (3, 4, 5), (6, 7, 8), (9, 10, 11))\n",
    "\n",
    "data_transpose = tuple(zip(*data))\n",
    "print(data_transpose)\n"
   ]
  }
 ],
 "metadata": {
  "kernelspec": {
   "display_name": "Python 3",
   "language": "python",
   "name": "python3"
  },
  "language_info": {
   "codemirror_mode": {
    "name": "ipython",
    "version": 3
   },
   "file_extension": ".py",
   "mimetype": "text/x-python",
   "name": "python",
   "nbconvert_exporter": "python",
   "pygments_lexer": "ipython3",
   "version": "3.11.4"
  }
 },
 "nbformat": 4,
 "nbformat_minor": 2
}
