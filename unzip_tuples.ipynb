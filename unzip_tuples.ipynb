{
 "cells": [
  {
   "cell_type": "code",
   "execution_count": 28,
   "metadata": {},
   "outputs": [
    {
     "name": "stdout",
     "output_type": "stream",
     "text": [
      "('Barney', 'Robin', 'Ted', 'Lily', 'Marshall')\n"
     ]
    }
   ],
   "source": [
    "# Unzip the `cast` tuple into two `names` and `heights` tuples.\n",
    "cast = ((\"Barney\", 72), (\"Robin\", 68), (\"Ted\", 72), (\"Lily\", 66), (\"Marshall\", 76))\n",
    "# define names and heights here\n",
    "names, heights = (),() # replace with your code\n",
    "temp_names, temp_heights = [], []\n",
    "for each_cast in cast:\n",
    "    temp_names.append(each_cast[0])\n",
    "    temp_heights.append(each_cast[1])\n",
    "names = tuple(temp_names)\n",
    "heights = tuple(temp_heights)\n",
    "\n",
    "print(names)\n",
    "\n"
   ]
  }
 ],
 "metadata": {
  "kernelspec": {
   "display_name": "Python 3",
   "language": "python",
   "name": "python3"
  },
  "language_info": {
   "codemirror_mode": {
    "name": "ipython",
    "version": 3
   },
   "file_extension": ".py",
   "mimetype": "text/x-python",
   "name": "python",
   "nbconvert_exporter": "python",
   "pygments_lexer": "ipython3",
   "version": "3.11.4"
  }
 },
 "nbformat": 4,
 "nbformat_minor": 2
}
