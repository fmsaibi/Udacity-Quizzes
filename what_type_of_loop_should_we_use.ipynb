{
 "cells": [
  {
   "cell_type": "code",
   "execution_count": 9,
   "metadata": {},
   "outputs": [
    {
     "name": "stdout",
     "output_type": "stream",
     "text": [
      "The numbers of odd numbers added are: [85, 719, 85, 17, 87]\n"
     ]
    }
   ],
   "source": [
    "# You need to write a loop that takes the numbers in a given list named num_list:\n",
    "# Your code should add up the odd numbers in the list, but only up to the first 5 odd numbers together. \n",
    "# If there are more than 5 odd numbers, you should stop at the fifth. If there are fewer than 5 odd numbers, add all of the odd numbers.\n",
    "\n",
    "num_list = [422, 136, 524, 85, 96, 719, 85, 92, 10, 17, 312, 542, 87, 23, 86, 191, 116, 35, 173, 45, 149, 59, 84, 69, 113, 166]\n",
    "odd_num_list = []\n",
    "index = 0\n",
    "\n",
    "while index < len(num_list):\n",
    "    if (num_list[index] % 2 != 0) and (len(odd_num_list) < 5):\n",
    "        odd_num_list.append(num_list[index])\n",
    "    # print(num_list[index])\n",
    "    index+=1\n",
    "\n",
    "print (\"The numbers of odd numbers added are: {}\".format(odd_num_list))"
   ]
  }
 ],
 "metadata": {
  "kernelspec": {
   "display_name": "Python 3",
   "language": "python",
   "name": "python3"
  },
  "language_info": {
   "codemirror_mode": {
    "name": "ipython",
    "version": 3
   },
   "file_extension": ".py",
   "mimetype": "text/x-python",
   "name": "python",
   "nbconvert_exporter": "python",
   "pygments_lexer": "ipython3",
   "version": "3.11.4"
  }
 },
 "nbformat": 4,
 "nbformat_minor": 2
}
