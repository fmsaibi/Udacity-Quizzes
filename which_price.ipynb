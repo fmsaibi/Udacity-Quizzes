{
 "cells": [
  {
   "cell_type": "code",
   "execution_count": null,
   "metadata": {},
   "outputs": [],
   "source": [
    "price_type = None\n",
    "if points >= 1 and points <= 50:\n",
    "    price_type = \"wooden rabbit\"\n",
    "elif points >= 51 and points <= 150:\n",
    "    price_type = \"no prize\"\n",
    "elif points >= 151 and points <= 180:\n",
    "    price_type = \"wafer-thin mint\"\n",
    "elif points >= 181 and points <= 200:\n",
    "    price_type = \"penguin\"\n",
    "\n",
    "# replace None with appropriate code \n",
    "result = \"Congratulations! You won a {}!\".format(price_type) if price_type else \"Oh dear, no prize this time.\""
   ]
  }
 ],
 "metadata": {
  "language_info": {
   "name": "python"
  }
 },
 "nbformat": 4,
 "nbformat_minor": 2
}
