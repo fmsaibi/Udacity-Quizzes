{
 "cells": [
  {
   "cell_type": "markdown",
   "metadata": {},
   "source": [
    "## Quiz: `readable_timedelta`\n",
    "\n",
    "Write a function named `readable_timedelta`. The function should take one argument, an integer `days`, and return a string that says how many weeks and days that is. For example, calling the function and printing the result like this:\n",
    "\n",
    "```python\n",
    "print(readable_timedelta(10))\n",
    "```\n",
    "\n",
    "should output the following:\n",
    "\n",
    "```txt\n",
    "1 week(s) and 3 day(s)."
   ]
  },
  {
   "cell_type": "code",
   "execution_count": 22,
   "metadata": {},
   "outputs": [
    {
     "name": "stdout",
     "output_type": "stream",
     "text": [
      "5 day(s)\n"
     ]
    }
   ],
   "source": [
    "# write your function here\n",
    "\n",
    "def readable_timedelta(days:int):\n",
    "    entred_days = days\n",
    "    weeks = 0\n",
    "    day = 0\n",
    "    while entred_days != 0:\n",
    "        if entred_days - 7 >= 0:\n",
    "            weeks+=1\n",
    "            entred_days -=7\n",
    "        else:\n",
    "            day+= entred_days\n",
    "            entred_days-= day\n",
    "\n",
    "    if weeks and not day:\n",
    "        return f'{weeks} weeks(s)'\n",
    "    elif weeks: \n",
    "        return f'{weeks} weeks(s) and {day} day(s)'\n",
    "    else:\n",
    "        return f'{day} day(s)'\n",
    "\n",
    "print(readable_timedelta(5))"
   ]
  }
 ],
 "metadata": {
  "kernelspec": {
   "display_name": "Python 3",
   "language": "python",
   "name": "python3"
  },
  "language_info": {
   "codemirror_mode": {
    "name": "ipython",
    "version": 3
   },
   "file_extension": ".py",
   "mimetype": "text/x-python",
   "name": "python",
   "nbconvert_exporter": "python",
   "pygments_lexer": "ipython3",
   "version": "3.11.4"
  }
 },
 "nbformat": 4,
 "nbformat_minor": 2
}
