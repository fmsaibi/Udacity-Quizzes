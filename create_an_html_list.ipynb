{
 "cells": [
  {
   "cell_type": "code",
   "execution_count": null,
   "metadata": {},
   "outputs": [],
   "source": [
    "items = ['first string', 'second string']\n",
    "html_str = \"<ul>\\n\"\n",
    "\n",
    "\n",
    "for item in items:\n",
    "    html_str += (\"<li>{}</li>\\n\".format(item))\n",
    "html_str += \"</ul>\\n\"\n",
    "print(html_str)"
   ]
  }
 ],
 "metadata": {
  "language_info": {
   "name": "python"
  }
 },
 "nbformat": 4,
 "nbformat_minor": 2
}
