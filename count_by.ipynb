{
 "cells": [
  {
   "cell_type": "code",
   "execution_count": 23,
   "metadata": {},
   "outputs": [
    {
     "name": "stdout",
     "output_type": "stream",
     "text": [
      "101\n"
     ]
    }
   ],
   "source": [
    "start_num = 5 #provide some start number, replace 5 with a number you choose\n",
    "end_num = 100#provide some end number that you stop when you hit, replace 100 with a number you choose\n",
    "count_by = 2 #provide some number to count by, replace 2 with a number you choose \n",
    "\n",
    "break_num = start_num\n",
    "\n",
    "while break_num <= end_num:\n",
    "    break_num += 1\n",
    "    \n",
    "print(break_num)\n"
   ]
  },
  {
   "cell_type": "code",
   "execution_count": 24,
   "metadata": {},
   "outputs": [
    {
     "name": "stdout",
     "output_type": "stream",
     "text": [
      "101\n"
     ]
    }
   ],
   "source": [
    "start_num = 5 #provide some start number, replace 5 with a number you choose\n",
    "end_num = 100#provide some end number that you stop when you hit, replace 100 with a number you choose\n",
    "count_by = 2 #provide some number to count by, replace 2 with a number you choose \n",
    "\n",
    "# write a condition to check that end_num is larger than start_num before looping\n",
    "# write a while loop that uses break_num as the ongoing number to \n",
    "# check against end_num\n",
    "break_num = start_num #replace None with appropriate code\n",
    "result = None #replace None with appropriate code\n",
    "\n",
    "\n",
    "if start_num > end_num:\n",
    "    result = \"Oops! Looks like your start value is greater than the end value. Please try again.\"\n",
    "else:\n",
    "    break_num = start_num\n",
    "    while break_num <= end_num:\n",
    "        break_num += 1\n",
    "    result = break_num\n",
    "print(result)"
   ]
  },
  {
   "cell_type": "code",
   "execution_count": 28,
   "metadata": {},
   "outputs": [
    {
     "name": "stdout",
     "output_type": "stream",
     "text": [
      "36\n"
     ]
    }
   ],
   "source": [
    "limit = 40 #provide a limit, replace 40 with a number you choose\n",
    "# write your while loop here\n",
    "nearest_square = None # replace None with appropriate code\n",
    "num = 0\n",
    "\n",
    "while num**2 < limit:\n",
    "    nearest_square = num**2\n",
    "    num+= 1\n",
    "print(nearest_square)"
   ]
  }
 ],
 "metadata": {
  "kernelspec": {
   "display_name": "Python 3",
   "language": "python",
   "name": "python3"
  },
  "language_info": {
   "codemirror_mode": {
    "name": "ipython",
    "version": 3
   },
   "file_extension": ".py",
   "mimetype": "text/x-python",
   "name": "python",
   "nbconvert_exporter": "python",
   "pygments_lexer": "ipython3",
   "version": "3.11.4"
  }
 },
 "nbformat": 4,
 "nbformat_minor": 2
}
